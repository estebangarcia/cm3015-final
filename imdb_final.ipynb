{
  "cells": [
    {
      "cell_type": "markdown",
      "metadata": {
        "id": "JO24nIwv8KFm"
      },
      "source": [
        "# 0. Instructions\n",
        "\n",
        "**Follow the universal workflow of DLWP 4.5 (1st edition) for a problem and dataset of your choice**.\n",
        "\n",
        "You can use the tensorflow datasets, MNIST, Reuters, IMDB and Boston Housing Price, or an external dataset. Work exclusively in this Jupyter notebook.\n",
        "\n",
        "**You can only use DLWP Part 1 layers (Chapters 1-4) i.e. restrict your models to tensorflow sequential Dense and Dropout layers**.\n",
        "\n",
        "A text cell and sometimes a code cell follows each section heading. These cells are for your response to the section title. The text that you add in these cells form the major component of the awarded grade. The aim is to use the section headings to construct a formal project report. What you did, and why, and what was the outcome: explanations, interpretations, evaluations and conclusions. You can add cells; above all, you must prepare a well-structured and readable document.\n",
        "\n",
        "You can use as much DLWP code and code from the video notebooks as you wish but you must reference all code that is not original.\n",
        "\n",
        "Export this Jupyter notebook to html and submit. Do not submit this notebook or any data files. Submit only the html export of this notebook.\n",
        "\n",
        "(For Colab users: Colab does not have an html facility. Either:\n",
        "Download the colab notebook and load into Jupyter; you will then be able to export as html\n",
        "or\n",
        "\n",
        "Follow the instructions in this blog https://python.plainenglish.io/how-to-convert-google-colab-notebook-ipynb-to-html-ccfeda199246 i.e. download from colab and then reload into colab's session storage. Then run the script\n",
        "%%shelljupyter nbconvert --to html /Your notebook path/file.ipynb\n",
        "and download the html version.)\n"
      ]
    },
    {
      "cell_type": "markdown",
      "metadata": {
        "id": "XOrVYg5k4w29"
      },
      "source": [
        "# 1. Problem definition and dataset"
      ]
    },
    {
      "cell_type": "markdown",
      "metadata": {
        "id": "gh19DWGt52tS"
      },
      "source": [
        "Sentiment analysis is a subfield of Natural Language Processing (NLP) that focuses on identifying and extracting subjective information from text data. It is widely used in various domains such as social media monitoring, marketing to analyze customer reviews, and the entertainment industry to gauge viewers sentiment towards content and guide filmakers into making better movies and TV shows.\n",
        "\n",
        "The ability to automatically classify text as expressing a positive or negative sentiment is a fundamental task in sentiment analysis.\n",
        "\n",
        "In this exercise I aim to use the IMDB dataset to tackle the problem of sentiment classification, the goal is to develop a model that can accurately classify the sentiment of movie reviews.\n",
        "\n",
        "The dataset consist of 50,000 movie reviews labeled as either positive or negative."
      ]
    },
    {
      "cell_type": "markdown",
      "metadata": {
        "id": "YsZ03T3U6F7_"
      },
      "source": [
        "# 2. Success metric(s)"
      ]
    },
    {
      "cell_type": "markdown",
      "metadata": {
        "id": "C9NpRUQY6NB6"
      },
      "source": [
        "As this is a binary classification problem (positive vs negative sentiment), I'm going to be using the following metrics to measure success of the model:\n",
        "\n",
        "* Accuracy gives me the ratio of correctly predicted instances (both positive and negative) to the tostal instances. Gives a general sense of how often the model is correct.\n",
        "\n",
        "Defined as:\n",
        "$Accuracy = \\frac{True Positives + True Negatives}{Total Number of Samples}$\n",
        "\n",
        "\n",
        "* Precision: The ratio of correctly predicted positive instances to the total predicted positive. Measures the accuracy of the positive predictions. This is important \n",
        "\n",
        "Defined as:\n",
        "$Precision = \\frac{True Positives}{True Positives + False Positives}$\n",
        "\n"
      ]
    },
    {
      "cell_type": "markdown",
      "metadata": {
        "id": "UBInoECg6TXo"
      },
      "source": [
        "# 3. Evaluation protocol"
      ]
    },
    {
      "cell_type": "markdown",
      "metadata": {
        "id": "4cqFwGA06lKM"
      },
      "source": [
        "For my evaluation protocol I'll be maintaing a hold-out validation set. Meaning I'll be splitting the data set into three distinct subsets:\n",
        "* Training Set: Used to train the model\n",
        "* Validation Set: Used to fine-tune the model's hyperparameters and prevent overfitting\n",
        "* Test Set: Used to assess the final performance of the model on new unseen data.\n",
        "\n",
        "Reasoning for choosing this method:\n",
        "* Prevents Data Leakage: This method ensures that the validation and test data are kept completely separate from the training data. This separation prevents data leakage, where information from the test set might inadvertently influence the model, leading to overly optimistic performance estimates.\n",
        "* Effective for large datasets: When a large amount of data is available, the hold-out mehitd is effective as it allows sufcfient data for both training the model and evaluating it.\n",
        "* Addresses Time Dependency in a Time Series Dataset: By partitioning the data chronologically, we ensure that the model is trained on past data and evaluated on future data, which reflects the real-world scenario where predictions are made for future time points based on historical observations."
      ]
    },
    {
      "cell_type": "markdown",
      "metadata": {
        "id": "AUkrbpaO6qDN"
      },
      "source": [
        "# 4. Data preparation"
      ]
    },
    {
      "cell_type": "markdown",
      "metadata": {
        "id": "QGdQCdmO6ueR"
      },
      "source": [
        "The IMDB dataset from keras is provided with already splitted datasets, one for training and one for testing holding 25k reviews each. The reviews are already pre-processed by turning the words into sequences of integers.\n",
        "\n",
        "A dictionary is provided to convert these back into their original form if needed, let's do this for inspecting the data for a moment."
      ]
    },
    {
      "cell_type": "code",
      "execution_count": 9,
      "metadata": {
        "id": "M4xPaQjr6vyI"
      },
      "outputs": [
        {
          "name": "stdout",
          "output_type": "stream",
          "text": [
            "? this film was just brilliant casting location scenery story direction everyone's really suited the part they played and you could just imagine being there robert ? is an amazing actor and now the same being director ? father came from the same scottish island as myself so i loved the fact there was a real connection with this film the witty remarks throughout the film were great it was just brilliant so much that i bought the film as soon as it was released for ? and would recommend it to everyone to watch and the fly fishing was amazing really cried at the end it was so sad and you know what they say if you cry at a film it must have been good and this definitely was also ? to the two little boy's that played the ? of norman and paul they were just brilliant children are often left out of the ? list i think because the stars that play them all grown up are such a big profile for the whole film but these children are amazing and should be praised for what they have done don't you think the whole story was so lovely because it was true and was someone's life after all that was shared with us all\n"
          ]
        }
      ],
      "source": [
        "from keras.datasets import imdb\n",
        "\n",
        "(train_data, train_labels), (test_data, test_labels) = imdb.load_data(num_words=10000)\n",
        "word_index = imdb.get_word_index()\n",
        "\n",
        "\n",
        "def decode_review(dictionary, review):\n",
        "    reverse_index = {}\n",
        "    for word, index in dictionary.items():\n",
        "        reverse_index[index] = word\n",
        "    \n",
        "    decoded_review = []\n",
        "    for word_index in review:\n",
        "        decoded_review.append(reverse_index.get(word_index - 3, '?'))\n",
        "    \n",
        "    return ' '.join(decoded_review)\n",
        "\n",
        "print(decode_review(word_index, train_data[0]))"
      ]
    },
    {
      "cell_type": "markdown",
      "metadata": {},
      "source": [
        "We can't feed these list of integers into a neural network, so we need to transform it into something we can use as an input. As we can only use Dense layers I'm going to one-hot encode the lists to turm them into vectors of 0s and 1s, if not word embeddings could be a better option for this as they capture the semantic relationship in between words which can improve generalization."
      ]
    },
    {
      "cell_type": "code",
      "execution_count": 10,
      "metadata": {},
      "outputs": [],
      "source": [
        "import numpy as np\n",
        "\n",
        "def vectorize_sequences(sequences, dimension=10000):\n",
        "    results = np.zeros((len(sequences), dimension))\n",
        "    for i, sequence in enumerate(sequences):\n",
        "        results[i, sequence] = 1\n",
        "    return results\n",
        "\n",
        "x_train = vectorize_sequences(train_data)\n",
        "x_test = vectorize_sequences(test_data)\n",
        "\n",
        "y_train = np.asarray(train_labels).astype('float32')\n",
        "y_test = np.asarray(test_labels).astype('float32')"
      ]
    },
    {
      "cell_type": "markdown",
      "metadata": {
        "id": "6oHmQrlV66P8"
      },
      "source": [
        "# 5. Gaining statistical power"
      ]
    },
    {
      "cell_type": "markdown",
      "metadata": {
        "id": "aqrEQ0AS6--y"
      },
      "source": [
        "With the dataset ready, I'm going to build a very basic model that should beat a baseline accuracy of 0.5. As this dataset is balanced with 50% positive and 50% negative reviews if I were to guess the sentiment of each review randomly I would be correct hald the time. Therefore a naive model with no learning would achieve a baseline accuracy of 50%.\n",
        "\n",
        "For this basic model I will use a single input layer and one hidden layer with 16 neurons for both, with an output layer with 1 neuron using the `sigmoid` activation algorithm..\n",
        "\n",
        "I'm going to use the `rmsprop` optimizer and the `binary_crossentropy` loss function as a starting point. The model will be initially trained for 20 epochs."
      ]
    },
    {
      "cell_type": "code",
      "execution_count": 11,
      "metadata": {
        "id": "x6Yks-Cf7A1B"
      },
      "outputs": [
        {
          "name": "stderr",
          "output_type": "stream",
          "text": [
            "/home/esgarcia/uol_workspace/machine-learning/final/.venv/lib/python3.10/site-packages/keras/src/layers/core/dense.py:87: UserWarning: Do not pass an `input_shape`/`input_dim` argument to a layer. When using Sequential models, prefer using an `Input(shape)` object as the first layer in the model instead.\n",
            "  super().__init__(activity_regularizer=activity_regularizer, **kwargs)\n"
          ]
        },
        {
          "name": "stdout",
          "output_type": "stream",
          "text": [
            "Epoch 1/20\n",
            "\u001b[1m30/30\u001b[0m \u001b[32m━━━━━━━━━━━━━━━━━━━━\u001b[0m\u001b[37m\u001b[0m \u001b[1m1s\u001b[0m 17ms/step - accuracy: 0.7240 - loss: 0.5906 - val_accuracy: 0.8662 - val_loss: 0.3966\n",
            "Epoch 2/20\n",
            "\u001b[1m30/30\u001b[0m \u001b[32m━━━━━━━━━━━━━━━━━━━━\u001b[0m\u001b[37m\u001b[0m \u001b[1m0s\u001b[0m 6ms/step - accuracy: 0.8870 - loss: 0.3440 - val_accuracy: 0.8730 - val_loss: 0.3255\n",
            "Epoch 3/20\n",
            "\u001b[1m30/30\u001b[0m \u001b[32m━━━━━━━━━━━━━━━━━━━━\u001b[0m\u001b[37m\u001b[0m \u001b[1m0s\u001b[0m 7ms/step - accuracy: 0.9207 - loss: 0.2528 - val_accuracy: 0.8837 - val_loss: 0.2920\n",
            "Epoch 4/20\n",
            "\u001b[1m30/30\u001b[0m \u001b[32m━━━━━━━━━━━━━━━━━━━━\u001b[0m\u001b[37m\u001b[0m \u001b[1m0s\u001b[0m 7ms/step - accuracy: 0.9334 - loss: 0.1994 - val_accuracy: 0.8867 - val_loss: 0.2790\n",
            "Epoch 5/20\n",
            "\u001b[1m30/30\u001b[0m \u001b[32m━━━━━━━━━━━━━━━━━━━━\u001b[0m\u001b[37m\u001b[0m \u001b[1m0s\u001b[0m 6ms/step - accuracy: 0.9449 - loss: 0.1678 - val_accuracy: 0.8854 - val_loss: 0.2818\n",
            "Epoch 6/20\n",
            "\u001b[1m30/30\u001b[0m \u001b[32m━━━━━━━━━━━━━━━━━━━━\u001b[0m\u001b[37m\u001b[0m \u001b[1m0s\u001b[0m 6ms/step - accuracy: 0.9579 - loss: 0.1395 - val_accuracy: 0.8855 - val_loss: 0.2861\n",
            "Epoch 7/20\n",
            "\u001b[1m30/30\u001b[0m \u001b[32m━━━━━━━━━━━━━━━━━━━━\u001b[0m\u001b[37m\u001b[0m \u001b[1m0s\u001b[0m 6ms/step - accuracy: 0.9613 - loss: 0.1218 - val_accuracy: 0.8843 - val_loss: 0.2961\n",
            "Epoch 8/20\n",
            "\u001b[1m30/30\u001b[0m \u001b[32m━━━━━━━━━━━━━━━━━━━━\u001b[0m\u001b[37m\u001b[0m \u001b[1m0s\u001b[0m 7ms/step - accuracy: 0.9736 - loss: 0.0960 - val_accuracy: 0.8806 - val_loss: 0.3108\n",
            "Epoch 9/20\n",
            "\u001b[1m30/30\u001b[0m \u001b[32m━━━━━━━━━━━━━━━━━━━━\u001b[0m\u001b[37m\u001b[0m \u001b[1m0s\u001b[0m 6ms/step - accuracy: 0.9753 - loss: 0.0862 - val_accuracy: 0.8823 - val_loss: 0.3296\n",
            "Epoch 10/20\n",
            "\u001b[1m30/30\u001b[0m \u001b[32m━━━━━━━━━━━━━━━━━━━━\u001b[0m\u001b[37m\u001b[0m \u001b[1m0s\u001b[0m 7ms/step - accuracy: 0.9804 - loss: 0.0768 - val_accuracy: 0.8804 - val_loss: 0.3443\n",
            "Epoch 11/20\n",
            "\u001b[1m30/30\u001b[0m \u001b[32m━━━━━━━━━━━━━━━━━━━━\u001b[0m\u001b[37m\u001b[0m \u001b[1m0s\u001b[0m 7ms/step - accuracy: 0.9840 - loss: 0.0638 - val_accuracy: 0.8780 - val_loss: 0.3632\n",
            "Epoch 12/20\n",
            "\u001b[1m30/30\u001b[0m \u001b[32m━━━━━━━━━━━━━━━━━━━━\u001b[0m\u001b[37m\u001b[0m \u001b[1m0s\u001b[0m 7ms/step - accuracy: 0.9887 - loss: 0.0522 - val_accuracy: 0.8764 - val_loss: 0.3814\n",
            "Epoch 13/20\n",
            "\u001b[1m30/30\u001b[0m \u001b[32m━━━━━━━━━━━━━━━━━━━━\u001b[0m\u001b[37m\u001b[0m \u001b[1m0s\u001b[0m 8ms/step - accuracy: 0.9908 - loss: 0.0442 - val_accuracy: 0.8762 - val_loss: 0.4011\n",
            "Epoch 14/20\n",
            "\u001b[1m30/30\u001b[0m \u001b[32m━━━━━━━━━━━━━━━━━━━━\u001b[0m\u001b[37m\u001b[0m \u001b[1m0s\u001b[0m 8ms/step - accuracy: 0.9935 - loss: 0.0356 - val_accuracy: 0.8764 - val_loss: 0.4272\n",
            "Epoch 15/20\n",
            "\u001b[1m30/30\u001b[0m \u001b[32m━━━━━━━━━━━━━━━━━━━━\u001b[0m\u001b[37m\u001b[0m \u001b[1m0s\u001b[0m 8ms/step - accuracy: 0.9955 - loss: 0.0310 - val_accuracy: 0.8714 - val_loss: 0.4504\n",
            "Epoch 16/20\n",
            "\u001b[1m30/30\u001b[0m \u001b[32m━━━━━━━━━━━━━━━━━━━━\u001b[0m\u001b[37m\u001b[0m \u001b[1m0s\u001b[0m 8ms/step - accuracy: 0.9968 - loss: 0.0262 - val_accuracy: 0.8688 - val_loss: 0.4802\n",
            "Epoch 17/20\n",
            "\u001b[1m30/30\u001b[0m \u001b[32m━━━━━━━━━━━━━━━━━━━━\u001b[0m\u001b[37m\u001b[0m \u001b[1m0s\u001b[0m 8ms/step - accuracy: 0.9969 - loss: 0.0235 - val_accuracy: 0.8740 - val_loss: 0.4938\n",
            "Epoch 18/20\n",
            "\u001b[1m30/30\u001b[0m \u001b[32m━━━━━━━━━━━━━━━━━━━━\u001b[0m\u001b[37m\u001b[0m \u001b[1m0s\u001b[0m 8ms/step - accuracy: 0.9976 - loss: 0.0205 - val_accuracy: 0.8711 - val_loss: 0.5157\n",
            "Epoch 19/20\n",
            "\u001b[1m30/30\u001b[0m \u001b[32m━━━━━━━━━━━━━━━━━━━━\u001b[0m\u001b[37m\u001b[0m \u001b[1m0s\u001b[0m 7ms/step - accuracy: 0.9985 - loss: 0.0159 - val_accuracy: 0.8715 - val_loss: 0.5435\n",
            "Epoch 20/20\n",
            "\u001b[1m30/30\u001b[0m \u001b[32m━━━━━━━━━━━━━━━━━━━━\u001b[0m\u001b[37m\u001b[0m \u001b[1m0s\u001b[0m 7ms/step - accuracy: 0.9994 - loss: 0.0122 - val_accuracy: 0.8702 - val_loss: 0.5686\n"
          ]
        }
      ],
      "source": [
        "from keras import models, layers\n",
        "\n",
        "baseline_model = models.Sequential()\n",
        "baseline_model.add(layers.Dense(16, activation='relu', input_shape=(10000,)))\n",
        "baseline_model.add(layers.Dense(16, activation='relu'))\n",
        "baseline_model.add(layers.Dense(1, activation='sigmoid'))\n",
        "\n",
        "baseline_model.compile(optimizer='rmsprop', loss='binary_crossentropy', metrics=['accuracy'])\n",
        "\n",
        "\n",
        "x_val = x_train[:10000]\n",
        "partial_x_train = x_train[10000:]\n",
        "\n",
        "y_val = y_train[:10000]\n",
        "partial_y_train = y_train[10000:]\n",
        "\n",
        "baseline_history = baseline_model.fit(partial_x_train, partial_y_train, epochs=20, batch_size=512, validation_data=(x_val, y_val))"
      ]
    },
    {
      "cell_type": "markdown",
      "metadata": {},
      "source": [
        "Now with the model train let's compare the training and validation the loss and accuracy of the model."
      ]
    },
    {
      "cell_type": "code",
      "execution_count": 12,
      "metadata": {},
      "outputs": [
        {
          "data": {
            "image/png": "[encoded data removed]",
            "text/plain": [
              "<Figure size 640x480 with 1 Axes>"
            ]
          },
          "metadata": {},
          "output_type": "display_data"
        },
        {
          "data": {
            "image/png": "[encoded data removed]",
            "text/plain": [
              "<Figure size 640x480 with 1 Axes>"
            ]
          },
          "metadata": {},
          "output_type": "display_data"
        }
      ],
      "source": [
        "import matplotlib.pyplot as plt\n",
        "\n",
        "baseline_loss = baseline_history.history['loss']\n",
        "baseline_val_loss = baseline_history.history['val_loss']\n",
        "baseline_accuracy = baseline_history.history['accuracy']\n",
        "baseline_val_accuracy = baseline_history.history['val_accuracy']\n",
        "\n",
        "epochs = range(1, len(baseline_loss) + 1)\n",
        "\n",
        "plt.plot(epochs, baseline_val_loss, 'b', label=\"Validation loss\")\n",
        "plt.plot(epochs, baseline_loss, 'bo', label=\"Training loss\")\n",
        "plt.title(\"Validation loss\")\n",
        "plt.xlabel('Epochs')\n",
        "plt.ylabel('Loss')\n",
        "plt.legend()\n",
        "plt.show()\n",
        "\n",
        "plt.plot(epochs, baseline_val_accuracy, 'b', label=\"Validation accuracy\")\n",
        "plt.plot(epochs, baseline_accuracy, 'bo', label=\"Training accuracy\")\n",
        "plt.axline((0, 0.50), (len(baseline_loss)+1, 0.50), label=\"Baseline\")\n",
        "plt.title(\"Validation Accuracy\")\n",
        "plt.xlabel('Epochs')\n",
        "plt.ylabel('Accuracy')\n",
        "plt.legend()\n",
        "plt.show()"
      ]
    },
    {
      "cell_type": "markdown",
      "metadata": {},
      "source": [
        "The basic model beats the baseline hence achieving statistical power, also the upwards trend of the validation loss and downard trend of the validation accuracy could be pointing at an overfitting model that peaks at around epoch 4 or 5."
      ]
    },
    {
      "cell_type": "markdown",
      "metadata": {
        "id": "gYmFQGvu7DF1"
      },
      "source": [
        "# 6. Scaling up"
      ]
    },
    {
      "cell_type": "markdown",
      "metadata": {
        "id": "EcqMcgMz7KMx"
      },
      "source": [
        "In this section I'm going to be attempting to answer the question \"Is my model sufficently powerful?\", my previous model was slightly overfitting as it probably doesn't have enough capacity to adjust itself to the dataset.\n",
        "\n",
        "I'm going to start by adding an additional hidden layer to the model and comparing its performance against my baseline."
      ]
    },
    {
      "cell_type": "code",
      "execution_count": 13,
      "metadata": {
        "id": "fJ03a8iW7NAP"
      },
      "outputs": [
        {
          "name": "stdout",
          "output_type": "stream",
          "text": [
            "Epoch 1/20\n",
            "\u001b[1m30/30\u001b[0m \u001b[32m━━━━━━━━━━━━━━━━━━━━\u001b[0m\u001b[37m\u001b[0m \u001b[1m1s\u001b[0m 17ms/step - accuracy: 0.6608 - loss: 0.6215 - val_accuracy: 0.8527 - val_loss: 0.4181\n",
            "Epoch 2/20\n",
            "\u001b[1m30/30\u001b[0m \u001b[32m━━━━━━━━━━━━━━━━━━━━\u001b[0m\u001b[37m\u001b[0m \u001b[1m0s\u001b[0m 7ms/step - accuracy: 0.8852 - loss: 0.3612 - val_accuracy: 0.8706 - val_loss: 0.3416\n",
            "Epoch 3/20\n",
            "\u001b[1m30/30\u001b[0m \u001b[32m━━━━━━━━━━━━━━━━━━━━\u001b[0m\u001b[37m\u001b[0m \u001b[1m0s\u001b[0m 8ms/step - accuracy: 0.9182 - loss: 0.2505 - val_accuracy: 0.8558 - val_loss: 0.3486\n",
            "Epoch 4/20\n",
            "\u001b[1m30/30\u001b[0m \u001b[32m━━━━━━━━━━━━━━━━━━━━\u001b[0m\u001b[37m\u001b[0m \u001b[1m0s\u001b[0m 7ms/step - accuracy: 0.9323 - loss: 0.2021 - val_accuracy: 0.8835 - val_loss: 0.2888\n",
            "Epoch 5/20\n",
            "\u001b[1m30/30\u001b[0m \u001b[32m━━━━━━━━━━━━━━━━━━━━\u001b[0m\u001b[37m\u001b[0m \u001b[1m0s\u001b[0m 7ms/step - accuracy: 0.9503 - loss: 0.1639 - val_accuracy: 0.8908 - val_loss: 0.2751\n",
            "Epoch 6/20\n",
            "\u001b[1m30/30\u001b[0m \u001b[32m━━━━━━━━━━━━━━━━━━━━\u001b[0m\u001b[37m\u001b[0m \u001b[1m0s\u001b[0m 7ms/step - accuracy: 0.9543 - loss: 0.1417 - val_accuracy: 0.8774 - val_loss: 0.3151\n",
            "Epoch 7/20\n",
            "\u001b[1m30/30\u001b[0m \u001b[32m━━━━━━━━━━━━━━━━━━━━\u001b[0m\u001b[37m\u001b[0m \u001b[1m0s\u001b[0m 6ms/step - accuracy: 0.9637 - loss: 0.1204 - val_accuracy: 0.8784 - val_loss: 0.3197\n",
            "Epoch 8/20\n",
            "\u001b[1m30/30\u001b[0m \u001b[32m━━━━━━━━━━━━━━━━━━━━\u001b[0m\u001b[37m\u001b[0m \u001b[1m0s\u001b[0m 6ms/step - accuracy: 0.9730 - loss: 0.1020 - val_accuracy: 0.8787 - val_loss: 0.3307\n",
            "Epoch 9/20\n",
            "\u001b[1m30/30\u001b[0m \u001b[32m━━━━━━━━━━━━━━━━━━━━\u001b[0m\u001b[37m\u001b[0m \u001b[1m0s\u001b[0m 6ms/step - accuracy: 0.9750 - loss: 0.0900 - val_accuracy: 0.8791 - val_loss: 0.3358\n",
            "Epoch 10/20\n",
            "\u001b[1m30/30\u001b[0m \u001b[32m━━━━━━━━━━━━━━━━━━━━\u001b[0m\u001b[37m\u001b[0m \u001b[1m0s\u001b[0m 7ms/step - accuracy: 0.9827 - loss: 0.0714 - val_accuracy: 0.8769 - val_loss: 0.3441\n",
            "Epoch 11/20\n",
            "\u001b[1m30/30\u001b[0m \u001b[32m━━━━━━━━━━━━━━━━━━━━\u001b[0m\u001b[37m\u001b[0m \u001b[1m0s\u001b[0m 6ms/step - accuracy: 0.9881 - loss: 0.0570 - val_accuracy: 0.8739 - val_loss: 0.3636\n",
            "Epoch 12/20\n",
            "\u001b[1m30/30\u001b[0m \u001b[32m━━━━━━━━━━━━━━━━━━━━\u001b[0m\u001b[37m\u001b[0m \u001b[1m0s\u001b[0m 7ms/step - accuracy: 0.9901 - loss: 0.0503 - val_accuracy: 0.8776 - val_loss: 0.3964\n",
            "Epoch 13/20\n",
            "\u001b[1m30/30\u001b[0m \u001b[32m━━━━━━━━━━━━━━━━━━━━\u001b[0m\u001b[37m\u001b[0m \u001b[1m0s\u001b[0m 7ms/step - accuracy: 0.9916 - loss: 0.0428 - val_accuracy: 0.8622 - val_loss: 0.4486\n",
            "Epoch 14/20\n",
            "\u001b[1m30/30\u001b[0m \u001b[32m━━━━━━━━━━━━━━━━━━━━\u001b[0m\u001b[37m\u001b[0m \u001b[1m0s\u001b[0m 7ms/step - accuracy: 0.9944 - loss: 0.0345 - val_accuracy: 0.8729 - val_loss: 0.4177\n",
            "Epoch 15/20\n",
            "\u001b[1m30/30\u001b[0m \u001b[32m━━━━━━━━━━━━━━━━━━━━\u001b[0m\u001b[37m\u001b[0m \u001b[1m0s\u001b[0m 6ms/step - accuracy: 0.9967 - loss: 0.0280 - val_accuracy: 0.8662 - val_loss: 0.4635\n",
            "Epoch 16/20\n",
            "\u001b[1m30/30\u001b[0m \u001b[32m━━━━━━━━━━━━━━━━━━━━\u001b[0m\u001b[37m\u001b[0m \u001b[1m0s\u001b[0m 7ms/step - accuracy: 0.9973 - loss: 0.0249 - val_accuracy: 0.8714 - val_loss: 0.4604\n",
            "Epoch 17/20\n",
            "\u001b[1m30/30\u001b[0m \u001b[32m━━━━━━━━━━━━━━━━━━━━\u001b[0m\u001b[37m\u001b[0m \u001b[1m0s\u001b[0m 7ms/step - accuracy: 0.9976 - loss: 0.0194 - val_accuracy: 0.8722 - val_loss: 0.4831\n",
            "Epoch 18/20\n",
            "\u001b[1m30/30\u001b[0m \u001b[32m━━━━━━━━━━━━━━━━━━━━\u001b[0m\u001b[37m\u001b[0m \u001b[1m0s\u001b[0m 7ms/step - accuracy: 0.9983 - loss: 0.0160 - val_accuracy: 0.8720 - val_loss: 0.5036\n",
            "Epoch 19/20\n",
            "\u001b[1m30/30\u001b[0m \u001b[32m━━━━━━━━━━━━━━━━━━━━\u001b[0m\u001b[37m\u001b[0m \u001b[1m0s\u001b[0m 8ms/step - accuracy: 0.9990 - loss: 0.0133 - val_accuracy: 0.8711 - val_loss: 0.5289\n",
            "Epoch 20/20\n",
            "\u001b[1m30/30\u001b[0m \u001b[32m━━━━━━━━━━━━━━━━━━━━\u001b[0m\u001b[37m\u001b[0m \u001b[1m0s\u001b[0m 7ms/step - accuracy: 0.9992 - loss: 0.0105 - val_accuracy: 0.8716 - val_loss: 0.5525\n"
          ]
        }
      ],
      "source": [
        "histories = []\n",
        "\n",
        "model = models.Sequential()\n",
        "model.add(layers.Dense(16, activation='relu', input_shape=(10000,)))\n",
        "model.add(layers.Dense(16, activation='relu'))\n",
        "model.add(layers.Dense(1, activation='sigmoid'))\n",
        "\n",
        "model.compile(optimizer='rmsprop', loss='binary_crossentropy', metrics=['accuracy'])\n",
        "\n",
        "histories.append(model.fit(partial_x_train, partial_y_train, epochs=20, batch_size=512, validation_data=(x_val, y_val)))\n"
      ]
    },
    {
      "cell_type": "code",
      "execution_count": 15,
      "metadata": {},
      "outputs": [
        {
          "name": "stdout",
          "output_type": "stream",
          "text": [
            "Epoch 1/20\n",
            "\u001b[1m15/15\u001b[0m \u001b[32m━━━━━━━━━━━━━━━━━━━━\u001b[0m\u001b[37m\u001b[0m \u001b[1m1s\u001b[0m 36ms/step - accuracy: 0.6034 - loss: 0.6498 - val_accuracy: 0.8306 - val_loss: 0.4670\n",
            "Epoch 2/20\n",
            "\u001b[1m15/15\u001b[0m \u001b[32m━━━━━━━━━━━━━━━━━━━━\u001b[0m\u001b[37m\u001b[0m \u001b[1m0s\u001b[0m 14ms/step - accuracy: 0.8425 - loss: 0.4240 - val_accuracy: 0.8017 - val_loss: 0.4374\n",
            "Epoch 3/20\n",
            "\u001b[1m15/15\u001b[0m \u001b[32m━━━━━━━━━━━━━━━━━━━━\u001b[0m\u001b[37m\u001b[0m \u001b[1m0s\u001b[0m 13ms/step - accuracy: 0.8607 - loss: 0.3471 - val_accuracy: 0.8682 - val_loss: 0.3322\n",
            "Epoch 4/20\n",
            "\u001b[1m15/15\u001b[0m \u001b[32m━━━━━━━━━━━━━━━━━━━━\u001b[0m\u001b[37m\u001b[0m \u001b[1m0s\u001b[0m 13ms/step - accuracy: 0.9034 - loss: 0.2650 - val_accuracy: 0.8750 - val_loss: 0.3075\n",
            "Epoch 5/20\n",
            "\u001b[1m15/15\u001b[0m \u001b[32m━━━━━━━━━━━━━━━━━━━━\u001b[0m\u001b[37m\u001b[0m \u001b[1m0s\u001b[0m 13ms/step - accuracy: 0.9219 - loss: 0.2264 - val_accuracy: 0.8794 - val_loss: 0.3042\n",
            "Epoch 6/20\n",
            "\u001b[1m15/15\u001b[0m \u001b[32m━━━━━━━━━━━━━━━━━━━━\u001b[0m\u001b[37m\u001b[0m \u001b[1m0s\u001b[0m 13ms/step - accuracy: 0.9321 - loss: 0.1987 - val_accuracy: 0.8819 - val_loss: 0.2913\n",
            "Epoch 7/20\n",
            "\u001b[1m15/15\u001b[0m \u001b[32m━━━━━━━━━━━━━━━━━━━━\u001b[0m\u001b[37m\u001b[0m \u001b[1m0s\u001b[0m 12ms/step - accuracy: 0.9392 - loss: 0.1725 - val_accuracy: 0.8859 - val_loss: 0.2843\n",
            "Epoch 8/20\n",
            "\u001b[1m15/15\u001b[0m \u001b[32m━━━━━━━━━━━━━━━━━━━━\u001b[0m\u001b[37m\u001b[0m \u001b[1m0s\u001b[0m 12ms/step - accuracy: 0.9531 - loss: 0.1438 - val_accuracy: 0.8873 - val_loss: 0.2820\n",
            "Epoch 9/20\n",
            "\u001b[1m15/15\u001b[0m \u001b[32m━━━━━━━━━━━━━━━━━━━━\u001b[0m\u001b[37m\u001b[0m \u001b[1m0s\u001b[0m 14ms/step - accuracy: 0.9657 - loss: 0.1233 - val_accuracy: 0.8842 - val_loss: 0.2897\n",
            "Epoch 10/20\n",
            "\u001b[1m15/15\u001b[0m \u001b[32m━━━━━━━━━━━━━━━━━━━━\u001b[0m\u001b[37m\u001b[0m \u001b[1m0s\u001b[0m 13ms/step - accuracy: 0.9725 - loss: 0.1028 - val_accuracy: 0.8792 - val_loss: 0.3143\n",
            "Epoch 11/20\n",
            "\u001b[1m15/15\u001b[0m \u001b[32m━━━━━━━━━━━━━━━━━━━━\u001b[0m\u001b[37m\u001b[0m \u001b[1m0s\u001b[0m 13ms/step - accuracy: 0.9719 - loss: 0.0965 - val_accuracy: 0.8631 - val_loss: 0.3771\n",
            "Epoch 12/20\n",
            "\u001b[1m15/15\u001b[0m \u001b[32m━━━━━━━━━━━━━━━━━━━━\u001b[0m\u001b[37m\u001b[0m \u001b[1m0s\u001b[0m 13ms/step - accuracy: 0.9755 - loss: 0.0891 - val_accuracy: 0.8844 - val_loss: 0.3146\n",
            "Epoch 13/20\n",
            "\u001b[1m15/15\u001b[0m \u001b[32m━━━━━━━━━━━━━━━━━━━━\u001b[0m\u001b[37m\u001b[0m \u001b[1m0s\u001b[0m 13ms/step - accuracy: 0.9682 - loss: 0.0974 - val_accuracy: 0.8837 - val_loss: 0.3250\n",
            "Epoch 14/20\n",
            "\u001b[1m15/15\u001b[0m \u001b[32m━━━━━━━━━━━━━━━━━━━━\u001b[0m\u001b[37m\u001b[0m \u001b[1m0s\u001b[0m 12ms/step - accuracy: 0.9881 - loss: 0.0614 - val_accuracy: 0.8352 - val_loss: 0.5154\n",
            "Epoch 15/20\n",
            "\u001b[1m15/15\u001b[0m \u001b[32m━━━━━━━━━━━━━━━━━━━━\u001b[0m\u001b[37m\u001b[0m \u001b[1m0s\u001b[0m 13ms/step - accuracy: 0.9519 - loss: 0.1212 - val_accuracy: 0.8749 - val_loss: 0.3665\n",
            "Epoch 16/20\n",
            "\u001b[1m15/15\u001b[0m \u001b[32m━━━━━━━━━━━━━━━━━━━━\u001b[0m\u001b[37m\u001b[0m \u001b[1m0s\u001b[0m 12ms/step - accuracy: 0.9892 - loss: 0.0510 - val_accuracy: 0.8187 - val_loss: 0.6402\n",
            "Epoch 17/20\n",
            "\u001b[1m15/15\u001b[0m \u001b[32m━━━━━━━━━━━━━━━━━━━━\u001b[0m\u001b[37m\u001b[0m \u001b[1m0s\u001b[0m 13ms/step - accuracy: 0.9670 - loss: 0.0979 - val_accuracy: 0.8762 - val_loss: 0.3794\n",
            "Epoch 18/20\n",
            "\u001b[1m15/15\u001b[0m \u001b[32m━━━━━━━━━━━━━━━━━━━━\u001b[0m\u001b[37m\u001b[0m \u001b[1m0s\u001b[0m 13ms/step - accuracy: 0.9927 - loss: 0.0403 - val_accuracy: 0.8627 - val_loss: 0.4705\n",
            "Epoch 19/20\n",
            "\u001b[1m15/15\u001b[0m \u001b[32m━━━━━━━━━━━━━━━━━━━━\u001b[0m\u001b[37m\u001b[0m \u001b[1m0s\u001b[0m 12ms/step - accuracy: 0.9876 - loss: 0.0466 - val_accuracy: 0.8765 - val_loss: 0.4021\n",
            "Epoch 20/20\n",
            "\u001b[1m15/15\u001b[0m \u001b[32m━━━━━━━━━━━━━━━━━━━━\u001b[0m\u001b[37m\u001b[0m \u001b[1m0s\u001b[0m 13ms/step - accuracy: 0.9970 - loss: 0.0269 - val_accuracy: 0.8105 - val_loss: 0.7694\n"
          ]
        }
      ],
      "source": [
        "model = models.Sequential()\n",
        "model.add(layers.Dense(32, activation='relu', input_shape=(10000,)))\n",
        "model.add(layers.Dense(16, activation='relu'))\n",
        "model.add(layers.Dense(8, activation='relu'))\n",
        "model.add(layers.Dense(1, activation='sigmoid'))\n",
        "\n",
        "model.compile(optimizer='rmsprop', loss='binary_crossentropy', metrics=['accuracy'])\n",
        "\n",
        "histories.append(model.fit(partial_x_train, partial_y_train, epochs=20, batch_size=1024, validation_data=(x_val, y_val)))"
      ]
    },
    {
      "cell_type": "code",
      "execution_count": 28,
      "metadata": {},
      "outputs": [
        {
          "ename": "TypeError",
          "evalue": "only length-1 arrays can be converted to Python scalars",
          "output_type": "error",
          "traceback": [
            "\u001b[0;31m---------------------------------------------------------------------------\u001b[0m",
            "\u001b[0;31mTypeError\u001b[0m                                 Traceback (most recent call last)",
            "Cell \u001b[0;32mIn[28], line 10\u001b[0m\n\u001b[1;32m      7\u001b[0m \u001b[38;5;28;01mfor\u001b[39;00m i, history \u001b[38;5;129;01min\u001b[39;00m \u001b[38;5;28menumerate\u001b[39m(histories):\n\u001b[1;32m      8\u001b[0m     val_loss \u001b[38;5;241m=\u001b[39m history\u001b[38;5;241m.\u001b[39mhistory[\u001b[38;5;124m'\u001b[39m\u001b[38;5;124mval_loss\u001b[39m\u001b[38;5;124m'\u001b[39m]\n\u001b[0;32m---> 10\u001b[0m     plt\u001b[38;5;241m.\u001b[39mplot(epochs, val_loss, label\u001b[38;5;241m=\u001b[39m\u001b[38;5;124mf\u001b[39m\u001b[38;5;124m\"\u001b[39m\u001b[38;5;124mValidation loss \u001b[39m\u001b[38;5;132;01m{\u001b[39;00mi\u001b[38;5;132;01m}\u001b[39;00m\u001b[38;5;124m\"\u001b[39m, c\u001b[38;5;241m=\u001b[39m\u001b[43mrandom_color\u001b[49m\u001b[43m(\u001b[49m\u001b[43m)\u001b[49m)\n\u001b[1;32m     11\u001b[0m     plt\u001b[38;5;241m.\u001b[39mtitle(\u001b[38;5;124m\"\u001b[39m\u001b[38;5;124mValidation loss\u001b[39m\u001b[38;5;124m\"\u001b[39m)\n\u001b[1;32m     12\u001b[0m     plt\u001b[38;5;241m.\u001b[39mxlabel(\u001b[38;5;124m'\u001b[39m\u001b[38;5;124mEpochs\u001b[39m\u001b[38;5;124m'\u001b[39m)\n",
            "Cell \u001b[0;32mIn[28], line 2\u001b[0m, in \u001b[0;36mrandom_color\u001b[0;34m()\u001b[0m\n\u001b[1;32m      1\u001b[0m \u001b[38;5;28;01mdef\u001b[39;00m \u001b[38;5;21mrandom_color\u001b[39m():\n\u001b[0;32m----> 2\u001b[0m     r \u001b[38;5;241m=\u001b[39m \u001b[38;5;28;43mint\u001b[39;49m\u001b[43m(\u001b[49m\u001b[43mnp\u001b[49m\u001b[38;5;241;43m.\u001b[39;49m\u001b[43mrandom\u001b[49m\u001b[38;5;241;43m.\u001b[39;49m\u001b[43mrand\u001b[49m\u001b[43m(\u001b[49m\u001b[38;5;241;43m0\u001b[39;49m\u001b[43m,\u001b[49m\u001b[43m \u001b[49m\u001b[38;5;241;43m255\u001b[39;49m\u001b[43m)\u001b[49m\u001b[43m)\u001b[49m\n\u001b[1;32m      3\u001b[0m     b \u001b[38;5;241m=\u001b[39m \u001b[38;5;28mint\u001b[39m(np\u001b[38;5;241m.\u001b[39mrandom\u001b[38;5;241m.\u001b[39mrand(\u001b[38;5;241m0\u001b[39m, \u001b[38;5;241m255\u001b[39m))\n\u001b[1;32m      4\u001b[0m     g \u001b[38;5;241m=\u001b[39m \u001b[38;5;28mint\u001b[39m(np\u001b[38;5;241m.\u001b[39mrandom\u001b[38;5;241m.\u001b[39mrand(\u001b[38;5;241m0\u001b[39m, \u001b[38;5;241m255\u001b[39m))\n",
            "\u001b[0;31mTypeError\u001b[0m: only length-1 arrays can be converted to Python scalars"
          ]
        }
      ],
      "source": [
        "def random_color():\n",
        "    r = int(np.random.rand(0, 255))\n",
        "    b = int(np.random.rand(0, 255))\n",
        "    g = int(np.random.rand(0, 255))\n",
        "    return (r, g, b)\n",
        "\n",
        "for i, history in enumerate(histories):\n",
        "    val_loss = history.history['val_loss']\n",
        "\n",
        "    plt.plot(epochs, val_loss, label=f\"Validation loss {i}\", color=np.random.rand(3,))\n",
        "    plt.title(\"Validation loss\")\n",
        "    plt.xlabel('Epochs')\n",
        "    plt.ylabel('Loss')\n",
        "\n",
        "plt.legend()\n",
        "plt.show()\n",
        "\n",
        "for i, history in enumerate(histories):\n",
        "    val_accuracy = history.history['val_accuracy']\n",
        "\n",
        "    plt.plot(epochs, val_accuracy, label=f\"Validation accuracy {i}\", color=np.random.rand(3,))\n",
        "    plt.title(\"Validation accuracy\")\n",
        "    plt.xlabel('Epochs')\n",
        "    plt.ylabel('Accuracy')\n",
        "\n",
        "plt.legend()\n",
        "plt.show()"
      ]
    },
    {
      "cell_type": "markdown",
      "metadata": {
        "id": "myXN6pzA7Op6"
      },
      "source": [
        "# 7. Regularisation and tuning"
      ]
    },
    {
      "cell_type": "markdown",
      "metadata": {
        "id": "p7ttH5-07X0Z"
      },
      "source": [
        "Response"
      ]
    },
    {
      "cell_type": "code",
      "execution_count": null,
      "metadata": {
        "id": "UO2onsme7Zyb"
      },
      "outputs": [],
      "source": [
        "# code"
      ]
    },
    {
      "cell_type": "markdown",
      "metadata": {
        "id": "CGlWxNwn7cGX"
      },
      "source": [
        "# 8. Evaluation"
      ]
    },
    {
      "cell_type": "markdown",
      "metadata": {
        "id": "V2maIBLg7jYf"
      },
      "source": [
        "Response"
      ]
    },
    {
      "cell_type": "code",
      "execution_count": null,
      "metadata": {
        "id": "kA4T4Bcw7lFn"
      },
      "outputs": [],
      "source": [
        "# code"
      ]
    },
    {
      "cell_type": "markdown",
      "metadata": {
        "id": "_bc9rP3Z7ov_"
      },
      "source": [
        "# 9. Conclusion"
      ]
    },
    {
      "cell_type": "markdown",
      "metadata": {
        "id": "Kc39lMtN7xCu"
      },
      "source": [
        "Response"
      ]
    },
    {
      "cell_type": "code",
      "execution_count": null,
      "metadata": {
        "id": "NEOKg4u17zf7"
      },
      "outputs": [],
      "source": [
        "# code"
      ]
    }
  ],
  "metadata": {
    "colab": {
      "provenance": []
    },
    "kernelspec": {
      "display_name": "Python 3",
      "name": "python3"
    },
    "language_info": {
      "codemirror_mode": {
        "name": "ipython",
        "version": 3
      },
      "file_extension": ".py",
      "mimetype": "text/x-python",
      "name": "python",
      "nbconvert_exporter": "python",
      "pygments_lexer": "ipython3",
      "version": "3.10.12"
    }
  },
  "nbformat": 4,
  "nbformat_minor": 0
}
